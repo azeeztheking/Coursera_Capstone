{
 "cells": [
  {
   "cell_type": "markdown",
   "metadata": {},
   "source": [
    "<h1>Battle of Neighborhoods</h1>"
   ]
  },
  {
   "cell_type": "markdown",
   "metadata": {},
   "source": [
    "<h2>Bangalore, INDIA </h2>"
   ]
  },
  {
   "cell_type": "markdown",
   "metadata": {},
   "source": [
    "<img src=\"https://media.gettyimages.com/photos/the-new-urban-bangalore-city-skyline-picture-id599531522\">"
   ]
  },
  {
   "cell_type": "markdown",
   "metadata": {},
   "source": [
    "<h3>Introduction/Business Problem:</h3>"
   ]
  },
  {
   "cell_type": "markdown",
   "metadata": {},
   "source": [
    "<p>I used to travel a lot to many new places as a trip. It’s cumbersome task to choose an hotel at a optimal location which is nearby to all/maximum tourist places.  By this, it would be easy for any traveller to book an hotel and cover maximum tourist spots. </p>\n",
    "\n",
    "<h4>Solution:</h4>\n",
    "<p>I would be building an app, which takes the location from the traveller where he is going to travel. Obtain all tourists places, hotels, restaurants etc. available around that town using Foursquare API. Find an optimal area and give an list of hotels and its ratings & reviews for the user to select.</p>\n",
    "\n"
   ]
  },
  {
   "cell_type": "markdown",
   "metadata": {},
   "source": [
    "<h3>Data:</h3>\n",
    "<p>I would be using Foursquare API data to extract venues, places, ratings etc. and geopy to obtain location data. I would perform clustering based on different areas to obtain local and global optima. I would use folium library to visualise areas in maps. For an Example I’ll be using Bangalore/India location dataset from  kaggle.com.</p>"
   ]
  },
  {
   "cell_type": "markdown",
   "metadata": {},
   "source": [
    "<img src=\"./bgl_data.png\">"
   ]
  },
  {
   "cell_type": "code",
   "execution_count": 22,
   "metadata": {},
   "outputs": [
    {
     "data": {
      "text/plain": [
       "(61, 6)"
      ]
     },
     "execution_count": 22,
     "metadata": {},
     "output_type": "execute_result"
    }
   ],
   "source": [
    "data.shape"
   ]
  },
  {
   "cell_type": "code",
   "execution_count": 28,
   "metadata": {},
   "outputs": [
    {
     "data": {
      "text/plain": [
       "key           object\n",
       "area_name     object\n",
       "latitude     float64\n",
       "longitude    float64\n",
       "dtype: object"
      ]
     },
     "execution_count": 28,
     "metadata": {},
     "output_type": "execute_result"
    }
   ],
   "source": [
    "data.dtypes"
   ]
  },
  {
   "cell_type": "markdown",
   "metadata": {},
   "source": [
    "<h4>Obtain Latitude and longitude values of Central Bangalore</h4>\n",
    "<p>Location data can be retrieved for any given location using geopy packages as we have seen in previous courses. I have retrieved location data of central bangalore which will be helpful in plotting on folium map</p>"
   ]
  },
  {
   "cell_type": "code",
   "execution_count": 32,
   "metadata": {},
   "outputs": [
    {
     "name": "stderr",
     "output_type": "stream",
     "text": [
      "/usr/lib/python3.6/site-packages/ipykernel_launcher.py:4: DeprecationWarning: Using Nominatim with the default \"geopy/1.18.1\" `user_agent` is strongly discouraged, as it violates Nominatim's ToS https://operations.osmfoundation.org/policies/nominatim/ and may possibly cause 403 and 429 HTTP errors. Please specify a custom `user_agent` with `Nominatim(user_agent=\"my-application\")` or by overriding the default `user_agent`: `geopy.geocoders.options.default_user_agent = \"my-application\"`. In geopy 2.0 this will become an exception.\n",
      "  after removing the cwd from sys.path.\n"
     ]
    },
    {
     "name": "stdout",
     "output_type": "stream",
     "text": [
      "12.9791198 77.5912997\n"
     ]
    }
   ],
   "source": [
    "#Obtain Latitude and longitude values of Central Bangalore\n",
    "address = 'Bangalore, Karnataka, India'\n",
    "\n",
    "geolocator = Nominatim()\n",
    "location = geolocator.geocode(address)\n",
    "latitude = location.latitude\n",
    "longitude = location.longitude\n",
    "print(latitude, longitude)"
   ]
  },
  {
   "cell_type": "markdown",
   "metadata": {},
   "source": [
    "<h4>Tourist places in Bangalore </h4>\n",
    "\n",
    "<p>The below data is obtained with the help of foursquare API. Data is then processsed to get in reasonable format with all required informations in place.\n",
    "</p>"
   ]
  },
  {
   "cell_type": "markdown",
   "metadata": {},
   "source": [
    "<img src= \"./bgl_places.png\">"
   ]
  },
  {
   "cell_type": "markdown",
   "metadata": {},
   "source": [
    "<h4>Bangalore Map with Tourist places marked in blue</h4>"
   ]
  },
  {
   "cell_type": "markdown",
   "metadata": {},
   "source": [
    " <img src=\"./bgl_map.png\">"
   ]
  },
  {
   "cell_type": "markdown",
   "metadata": {},
   "source": [
    " <h3>Methodology</h3>\n",
    " \n",
    " <p>Now we find the centroid of all tourist places using any ML model like in this case (K means clustering). Centroid can be obtained easily by distance measurements of places and finding an intersection where all lines meetup. In this project I have taken Lalbagh West as an centroid area. So we will search for hotels in this area using FourSquare API. we will find ratings, reviews, pricing and get a list of top 5 best hotels to choose in lalbagh west.</p>"
   ]
  },
  {
   "cell_type": "markdown",
   "metadata": {},
   "source": [
    "<b>Location data of Lalabagh West</b>"
   ]
  },
  {
   "cell_type": "code",
   "execution_count": 251,
   "metadata": {},
   "outputs": [
    {
     "name": "stderr",
     "output_type": "stream",
     "text": [
      "/usr/lib/python3.6/site-packages/ipykernel_launcher.py:4: DeprecationWarning: Using Nominatim with the default \"geopy/1.18.1\" `user_agent` is strongly discouraged, as it violates Nominatim's ToS https://operations.osmfoundation.org/policies/nominatim/ and may possibly cause 403 and 429 HTTP errors. Please specify a custom `user_agent` with `Nominatim(user_agent=\"my-application\")` or by overriding the default `user_agent`: `geopy.geocoders.options.default_user_agent = \"my-application\"`. In geopy 2.0 this will become an exception.\n",
      "  after removing the cwd from sys.path.\n"
     ]
    },
    {
     "name": "stdout",
     "output_type": "stream",
     "text": [
      "12.94646125 77.5800458707851\n"
     ]
    }
   ],
   "source": [
    "#Obtain Latitude and longitude values of lalbagh west in banglore\n",
    "address = 'Lalbagh West,Bangalore, Karnataka, India'\n",
    "\n",
    "geolocator = Nominatim()\n",
    "location = geolocator.geocode(address)\n",
    "latitude = location.latitude\n",
    "longitude = location.longitude\n",
    "print(latitude, longitude)"
   ]
  },
  {
   "cell_type": "markdown",
   "metadata": {},
   "source": [
    "<h4>Final Output</h4>\n",
    "\n",
    "<p>This would be the output given to the user, which contains top 5 hotels with its ratings and reviews in place.</p>"
   ]
  },
  {
   "cell_type": "markdown",
   "metadata": {},
   "source": [
    "<img src =\"./top5_hotels.png\">"
   ]
  },
  {
   "cell_type": "markdown",
   "metadata": {},
   "source": [
    "<h3>Results</h3>\n",
    "\n",
    "<p>This applicaion will now be able to suggest an traveller visiting bangalore to choose an best area to stay and best hotel to book.</p>\n",
    "\n",
    "<p>The final output displays top 5 hotels of best suitable area with ratings and reviews.</p>"
   ]
  },
  {
   "cell_type": "markdown",
   "metadata": {},
   "source": [
    "<h3>Discussion:</h3>\n",
    "\n",
    "<p>After an data analysis I have found that there many venues which has no detailed address mentioned. I have extracted address using location data available from geopy package.</p>\n",
    "\n",
    "<h3>Conclusion:</h3>\n",
    "<p>So now any user using this application will now be able to will be able to <br>  <br> \n",
    "    1. Enter any desired location he is planning to visit <br> \n",
    "    2. Get the list of tourist places in that location <br> \n",
    "    3. The Model will find an optimal area which is nearby to many tourist places <br> \n",
    "    4. Provide a list of top 5 hotels in an optimal area with ratings and reviews <br> \n",
    "</p>"
   ]
  }
 ],
 "metadata": {
  "kernelspec": {
   "display_name": "Python 3",
   "language": "python",
   "name": "python3"
  },
  "language_info": {
   "codemirror_mode": {
    "name": "ipython",
    "version": 3
   },
   "file_extension": ".py",
   "mimetype": "text/x-python",
   "name": "python",
   "nbconvert_exporter": "python",
   "pygments_lexer": "ipython3",
   "version": "3.6.7"
  }
 },
 "nbformat": 4,
 "nbformat_minor": 2
}
